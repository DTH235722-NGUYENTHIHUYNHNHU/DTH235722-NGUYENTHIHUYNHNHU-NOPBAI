{
 "cells": [
  {
   "cell_type": "code",
   "execution_count": null,
   "id": "a66574b7",
   "metadata": {},
   "outputs": [
    {
     "name": "stdout",
     "output_type": "stream",
     "text": [
      "Chu vi = 31.41592653589793\n",
      "Diện tích= 25.0\n"
     ]
    }
   ],
   "source": [
    "{\n",
    "import math\n",
    "try:\n",
    " r=float(input(\"Mời bạn nhập bán kính hình tròn:\"))\n",
    " cv=2*math.pi*r\n",
    " dt=r**2\n",
    " print(\"Chu vi =\",cv)\n",
    " print(\"Diện tích=\",dt)\n",
    "except:\n",
    " print(\"Lỗi rồi!\")\n",
    "}"
   ]
  },
  {
   "cell_type": "code",
   "execution_count": 2,
   "id": "c2c024d5",
   "metadata": {},
   "outputs": [
    {
     "name": "stdout",
     "output_type": "stream",
     "text": [
      "1 : 2 : 30\n"
     ]
    }
   ],
   "source": [
    "t=int(input(\"Nhập số giây:\"))\n",
    "hour=(t//3600)%24\n",
    "minute=(t%3600)//60\n",
    "second=(t%3600)%60\n",
    "print(hour,\":\",minute,\":\",second)"
   ]
  },
  {
   "cell_type": "code",
   "execution_count": 3,
   "id": "cd150cba",
   "metadata": {},
   "outputs": [
    {
     "name": "stdout",
     "output_type": "stream",
     "text": [
      "Điểm trung bình= 8.0\n",
      "Điểm trung bình= 8.0\n"
     ]
    }
   ],
   "source": [
    "toan=float(input(\"Nhập điểm Toán:\"))\n",
    "ly=float(input(\"Nhập điểm lý:\"))\n",
    "hoa=float(input(\"Nhập điểm hóa:\"))\n",
    "dtb=(toan+ly+hoa)/3\n",
    "print(\"Điểm trung bình=\",dtb)\n",
    "print(\"Điểm trung bình=\",round(dtb,2))"
   ]
  }
 ],
 "metadata": {
  "kernelspec": {
   "display_name": "Python 3",
   "language": "python",
   "name": "python3"
  },
  "language_info": {
   "codemirror_mode": {
    "name": "ipython",
    "version": 3
   },
   "file_extension": ".py",
   "mimetype": "text/x-python",
   "name": "python",
   "nbconvert_exporter": "python",
   "pygments_lexer": "ipython3",
   "version": "3.13.7"
  }
 },
 "nbformat": 4,
 "nbformat_minor": 5
}

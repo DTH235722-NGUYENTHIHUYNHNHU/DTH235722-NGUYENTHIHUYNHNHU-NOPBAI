{
 "cells": [
  {
   "cell_type": "code",
   "execution_count": 2,
   "id": "5f133470",
   "metadata": {},
   "outputs": [
    {
     "name": "stdout",
     "output_type": "stream",
     "text": [
      "Chương trình kiểm tra năm nhuần\n",
      "Năm  2025  không nhuần\n"
     ]
    }
   ],
   "source": [
    "#Bai1\n",
    "print(\"Chương trình kiểm tra năm nhuần\")\n",
    "year = int (input(\"Mời Thím nhập vào 1 năm: \"))\n",
    "if(year % 4 == 0 and year % 100 !=0) or (year % 400 == 0):\n",
    "    print(\"Năm \", year, \" là năm nhuần\")\n",
    "else:\n",
    "    print(\"Năm \", year, \" không nhuần\")\n"
   ]
  },
  {
   "cell_type": "code",
   "execution_count": 7,
   "id": "d8e17019",
   "metadata": {},
   "outputs": [
    {
     "name": "stdout",
     "output_type": "stream",
     "text": [
      "Chương trình đếm số ngày trong tháng\n",
      "Tháng  1  có 31 ngày\n"
     ]
    }
   ],
   "source": [
    "#Bai2\n",
    "print(\"Chương trình đếm số ngày trong tháng\")\n",
    "month = int (input(\"Nhập vào 1 tháng: \"))\n",
    "if month in (1, 3, 5, 7, 8, 10, 12):\n",
    "    print(\"Tháng \", month, \" có 31 ngày\")\n",
    "elif month in (4, 6, 9, 11):\n",
    "    print(\"Tháng \", month, \" có 30 ngày\")\n",
    "elif month == 2:\n",
    "    year = int (input(\"Mời bạn nhập vao năm: \"))\n",
    "    if(year % 4 == 0 and year % 100 != 0) or (year % 400 == 0):\n",
    "        print(\"Tháng \", month, \" có 29 ngày\")\n",
    "    else: \n",
    "        print(\"Tháng \", month, \" có 28 ngày\")\n",
    "else:\n",
    "    print(\"Tháng \", month, \" không hợp lệ\")"
   ]
  },
  {
   "cell_type": "code",
   "execution_count": 8,
   "id": "8283f06a",
   "metadata": {},
   "outputs": [
    {
     "name": "stdout",
     "output_type": "stream",
     "text": [
      "Chương Trình Giải Phương Trình Bậc 2\n",
      "x1 =  5.645751311064591\n",
      "x2 =  0.3542486889354093\n"
     ]
    }
   ],
   "source": [
    "#Bai3\n",
    "from math import sqrt\n",
    "\n",
    "print(\"Chương Trình Giải Phương Trình Bậc 2\")\n",
    "a = float(input(\"Nhập a: \"))\n",
    "b = float(input(\"Nhập b: \"))\n",
    "c = float(input(\"Nhập c: \"))\n",
    "if a == 0:\n",
    "    if b == 0 and c == 0:\n",
    "        print(\"Vô số nghiệm\")\n",
    "    elif b == 0 and c != 0:\n",
    "        print(\"Vô nghiệm\")\n",
    "    else: \n",
    "        x = -c/b\n",
    "        print(\"Nghiệm x = \", x)\n",
    "else:\n",
    "    delta = b**2 - 4*a*c\n",
    "    if delta < 0:\n",
    "        print(\"Vô nghiệm\")\n",
    "    elif delta == 0:\n",
    "        x = -b/2*a\n",
    "        print(\"Nghiệm kép x1 = x2 =\", x)\n",
    "    else:\n",
    "        x1 = (-b + sqrt(delta)) / (2*a)\n",
    "        x2 = (-b - sqrt(delta)) / (2*a)\n",
    "        print(\"x1 = \", x1)\n",
    "        print(\"x2 = \", x2)"
   ]
  },
  {
   "cell_type": "code",
   "execution_count": null,
   "id": "493fc987",
   "metadata": {},
   "outputs": [],
   "source": [
    "#Bai4\n",
    "x = 3, y = 5, z = 7\n",
    "(a) x == 3 => True\n",
    "(b) x < y => True\n",
    "(c) x >= y => False\n",
    "(d) x <= y => True\n",
    "(e) x != y - 2 => False\n",
    "(f) x < 10 => True\n",
    "(g) x >= 0 and x < 10 => True\n",
    "(h) x < 0 and x < 10 => False\n",
    "(i) x >= 0 and x < 2 => False\n",
    "(j) x < 0 or x < 10 => True\n",
    "(k) x > 0 or x < 10 => True\n",
    "(l) x < 0 or x > 10 => False"
   ]
  },
  {
   "cell_type": "code",
   "execution_count": null,
   "id": "4efcf119",
   "metadata": {},
   "outputs": [],
   "source": [
    "#Bai5\n",
    "(a) i = 5, j = 5, k = 7\n",
    "(b) i = 3, j = 5, k = 5\n",
    "(c) i = 7, j = 3, k = 7\n",
    "(d) i = 5, j = 3, k = 3\n",
    "(e) i = 5, j = 3, k = 5\n",
    "(f) i = 7, j = 7, k = 3"
   ]
  },
  {
   "cell_type": "code",
   "execution_count": 30,
   "id": "5a71759e",
   "metadata": {},
   "outputs": [
    {
     "name": "stdout",
     "output_type": "stream",
     "text": [
      "Mười một\n"
     ]
    }
   ],
   "source": [
    "#Bai6\n",
    "so = \"Không\", \"Một\", \"Hai\", \"Ba\", \"Bốn\", \"Năm\", \"Sáu\", \"Bảy\", \"Tám\", \"Chín\"\n",
    "n = int(input(\"Nhập số từ (0-99): \"))\n",
    "if n < 0 or n > 99:\n",
    "     print(\"Số không hợp lệ\")\n",
    "elif n < 10:\n",
    "    print(so[n])\n",
    "elif n >= 10 and n <= 99:\n",
    "    hangchuc = n // 10\n",
    "    hangdonvi = n % 10\n",
    "    if hangchuc == 1 and hangdonvi == 0:\n",
    "        print(\"Mười\")\n",
    "    elif hangchuc == 1 and hangdonvi == 1:\n",
    "        print(\"Mười một\")\n",
    "    elif hangchuc == 1 and hangdonvi == 5:\n",
    "        print(\"Mười lăm\")\n",
    "    elif hangchuc == 1:\n",
    "        print(\"Mười\", so[hangdonvi])\n",
    "    elif hangdonvi == 0:\n",
    "        print(so[hangchuc], \"mươi\")\n",
    "    elif hangdonvi == 1:\n",
    "        print(so[hangchuc], \"mươi mốt\")\n",
    "    elif hangdonvi == 5:\n",
    "        print(so[hangchuc], \"mươi lăm\")\n",
    "    else:\n",
    "        print(so[hangchuc], \"mươi\", so[hangdonvi])\n",
    "\n",
    "       "
   ]
  },
  {
   "cell_type": "code",
   "execution_count": 37,
   "id": "81999524",
   "metadata": {},
   "outputs": [
    {
     "name": "stdout",
     "output_type": "stream",
     "text": [
      "Ngày kế tiếp là:  1 / 1 / 2025\n"
     ]
    }
   ],
   "source": [
    "#Bai7\n",
    "n = int(input(\"Nhập vào một ngày: \"))\n",
    "if n < 1 or n > 31:\n",
    "    print(\"Ngày không hợp lệ\")\n",
    "elif n >= 1 and n <= 31:\n",
    "        thang = int(input(\"Nhập vào một tháng: \"))\n",
    "        nam = int(input(\"Nhập vào một năm: \"))\n",
    "\n",
    "        if thang in (1, 3, 5, 7, 8, 10, 12):\n",
    "            ngay_trong_thang = 31\n",
    "        elif thang in (4, 6, 9, 11):\n",
    "            ngay_trong_thang = 30\n",
    "        elif thang == 2:\n",
    "            if(nam % 4 == 0 and nam % 100 != 0) or (nam % 400 == 0):\n",
    "                ngay_trong_thang = 29\n",
    "            else:\n",
    "                ngay_trong_thang = 28\n",
    "        else:\n",
    "            print(\"Tháng không hợp lệ\")\n",
    "            ngay_trong_thang = 0\n",
    "        \n",
    "        if ngay_trong_thang != 0:\n",
    "            if  n < ngay_trong_thang:\n",
    "                ngay_ke_tiep = n + 1\n",
    "                thang_ke_tiep = thang\n",
    "                nam_ke_tiep = nam\n",
    "            elif n == ngay_trong_thang:\n",
    "                ngay_ke_tiep = 1\n",
    "                if thang == 12:\n",
    "                    thang_ke_tiep = 1\n",
    "                    nam_ke_tiep = nam + 1\n",
    "                else:\n",
    "                    thang_ke_tiep = thang + 1\n",
    "                    nam_ke_tiep = nam\n",
    "            print(\"Ngày kế tiếp là: \", ngay_ke_tiep,\"/\", thang_ke_tiep, \"/\", nam_ke_tiep)\n",
    "\n",
    "\n"
   ]
  },
  {
   "cell_type": "code",
   "execution_count": null,
   "id": "40c0a8db",
   "metadata": {},
   "outputs": [
    {
     "name": "stdout",
     "output_type": "stream",
     "text": [
      "Quý 3\n"
     ]
    }
   ],
   "source": [
    "#Bai9\n",
    "thang = int(input(\"Nhập vào một tháng: \"))\n",
    "if thang in (1, 2, 3):\n",
    "    print(\"Quý 1\")\n",
    "elif thang in (4, 5, 6):\n",
    "    print(\"Quý 2\")\n",
    "elif thang in (7, 8, 9):\n",
    "    print(\"Quý 3\")\n",
    "elif thang in (10, 11, 12):\n",
    "    print(\"Quý 4\")\n",
    "else: \n",
    "    print(\"Tháng không hợp lệ\")"
   ]
  },
  {
   "cell_type": "code",
   "execution_count": null,
   "id": "a4726ced",
   "metadata": {},
   "outputs": [
    {
     "name": "stdout",
     "output_type": "stream",
     "text": [
      "s(2,4)=48.66666666666666\n"
     ]
    }
   ],
   "source": [
    "#Bai10\n",
    "x = int(input(\"Nhập x:\"))\n",
    "n = int(input(\"Nhập N:\"))\n",
    "s = 0\n",
    "for i in range(1,n+1):\n",
    " tu = x**i\n",
    " mau = 1\n",
    " for j in range(1,i+1):\n",
    "    mau = mau*j\n",
    "    s=s+(tu/mau)\n",
    "print(\"s({0},{1})={2}\".format(x,n,s))"
   ]
  },
  {
   "cell_type": "code",
   "execution_count": null,
   "id": "8f8d2ea2",
   "metadata": {},
   "outputs": [
    {
     "name": "stdout",
     "output_type": "stream",
     "text": [
      "5 Là số nguyên tố\n",
      "1 Không là số nguyên tố\n",
      "BYE!\n"
     ]
    }
   ],
   "source": [
    "#Bai11\n",
    "while True:\n",
    "    n=int(input(\"Nhập 1 số nguyên dương\"))\n",
    "    dem=0\n",
    "    for i in range(1, n+1):\n",
    "        if n % i == 0:\n",
    "            dem += 1\n",
    "    if dem==2:\n",
    "        print(n,\"Là số nguyên tố\")\n",
    "    else:\n",
    "        print(n,\"Không là số nguyên tố\")\n",
    "    hoi=input(\"Tiếp không Thím?(c/k):\")\n",
    "    if hoi == \"k\":\n",
    "        break\n",
    "print(\"BYE!\")\n"
   ]
  },
  {
   "cell_type": "code",
   "execution_count": 7,
   "id": "01f001f5",
   "metadata": {},
   "outputs": [
    {
     "name": "stdout",
     "output_type": "stream",
     "text": [
      "a - b =  4\n"
     ]
    }
   ],
   "source": [
    "#Bai8\n",
    "a = int (input(\"Nhập a: \"))\n",
    "b = int (input(\"Nhập b: \"))\n",
    "pheptoan = input(\"Nhập phép toán (+, -, *, /):\")\n",
    "if pheptoan == \"+\":\n",
    "    print(\"a + b = \", a + b)\n",
    "elif pheptoan == \"-\":\n",
    "    print(\"a - b = \", a - b)    \n",
    "elif pheptoan == \"*\":\n",
    "    print(\"a * b = \", a * b)\n",
    "elif pheptoan == \"/\":\n",
    "    if b != 0:\n",
    "        print(\"a / b = \", a / b)\n",
    "    else:\n",
    "        print(\"Không thể chia cho 0\")\n",
    "else:\n",
    "    print(\"Phép toán không hợp lệ\") \n",
    "    \n"
   ]
  },
  {
   "cell_type": "code",
   "execution_count": 10,
   "id": "fd6d82eb",
   "metadata": {},
   "outputs": [
    {
     "name": "stdout",
     "output_type": "stream",
     "text": [
      "2* 1= 2\t\t3* 1= 3\t\t4* 1= 4\t\t5* 1= 5\t\t6* 1= 6\t\t7* 1= 7\t\t8* 1= 8\t\t9* 1= 9\t\t\n",
      "2* 2= 4\t\t3* 2= 6\t\t4* 2= 8\t\t5* 2=10\t\t6* 2=12\t\t7* 2=14\t\t8* 2=16\t\t9* 2=18\t\t\n",
      "2* 3= 6\t\t3* 3= 9\t\t4* 3=12\t\t5* 3=15\t\t6* 3=18\t\t7* 3=21\t\t8* 3=24\t\t9* 3=27\t\t\n",
      "2* 4= 8\t\t3* 4=12\t\t4* 4=16\t\t5* 4=20\t\t6* 4=24\t\t7* 4=28\t\t8* 4=32\t\t9* 4=36\t\t\n",
      "2* 5=10\t\t3* 5=15\t\t4* 5=20\t\t5* 5=25\t\t6* 5=30\t\t7* 5=35\t\t8* 5=40\t\t9* 5=45\t\t\n",
      "2* 6=12\t\t3* 6=18\t\t4* 6=24\t\t5* 6=30\t\t6* 6=36\t\t7* 6=42\t\t8* 6=48\t\t9* 6=54\t\t\n",
      "2* 7=14\t\t3* 7=21\t\t4* 7=28\t\t5* 7=35\t\t6* 7=42\t\t7* 7=49\t\t8* 7=56\t\t9* 7=63\t\t\n",
      "2* 8=16\t\t3* 8=24\t\t4* 8=32\t\t5* 8=40\t\t6* 8=48\t\t7* 8=56\t\t8* 8=64\t\t9* 8=72\t\t\n",
      "2* 9=18\t\t3* 9=27\t\t4* 9=36\t\t5* 9=45\t\t6* 9=54\t\t7* 9=63\t\t8* 9=72\t\t9* 9=81\t\t\n",
      "2*10=20\t\t3*10=30\t\t4*10=40\t\t5*10=50\t\t6*10=60\t\t7*10=70\t\t8*10=80\t\t9*10=90\t\t\n"
     ]
    }
   ],
   "source": [
    "#Bai12\n",
    "for i in range(1,11):\n",
    "    for j in range(2,10):\n",
    "        line=\"{0}*{1:>2}={2:>2}\".format(j,i,i*j)\n",
    "        print(line,end='\\t\\t')\n",
    "    print()\n"
   ]
  },
  {
   "cell_type": "code",
   "execution_count": null,
   "id": "1843198b",
   "metadata": {},
   "outputs": [],
   "source": [
    "#Bai13\n",
    "Mỗi vòng lặp in ra đúng 1 dấu * trên 1 dòng.\n",
    "Vì vòng lặp không bao giờ dừng, nên sẽ in ra vô hạn dấu * (không đếm được số lượng)."
   ]
  },
  {
   "cell_type": "code",
   "execution_count": null,
   "id": "b6ceaa08",
   "metadata": {},
   "outputs": [],
   "source": [
    "#Bai14\n",
    "2000 dấu * được in trên màn hình "
   ]
  },
  {
   "cell_type": "code",
   "execution_count": null,
   "id": "6b571fce",
   "metadata": {},
   "outputs": [],
   "source": [
    "#Bai15\n",
    "(a) range(5)\n",
    "\n",
    "Mặc định = range(0, 5, 1)\n",
    "Kết quả: [0, 1, 2, 3, 4]\n",
    "\n",
    "(b) range(5, 10)\n",
    "\n",
    "Bắt đầu từ 5, dừng trước 10, bước nhảy 1.\n",
    "Kết quả: [5, 6, 7, 8, 9]\n",
    "\n",
    "(c) range(5, 20, 3)\n",
    "\n",
    "Bắt đầu từ 5, dừng trước 20, bước nhảy 3.\n",
    "Kết quả: [5, 8, 11, 14, 17]\n",
    "\n",
    "(d) range(20, 5, -1)\n",
    "\n",
    "Bắt đầu từ 20, dừng sau khi nhỏ hơn hoặc bằng 5, bước nhảy -1.\n",
    "Kết quả: [20, 19, 18, …, 6]\n",
    "\n",
    "(e) range(20, 5, -3)\n",
    "\n",
    "Bắt đầu 20, giảm 3 mỗi lần, dừng khi < 6.\n",
    "Kết quả: [20, 17, 14, 11, 8]\n",
    "\n",
    "(f) range(10, 5)\n",
    "\n",
    "Bước nhảy mặc định = +1, nhưng start > stop.\n",
    "Kết quả: Không có giá trị nào ⇒ []\n",
    "\n",
    "(g) range(0)\n",
    "\n",
    "Tức range(0, 0, 1) ⇒ không có giá trị nào.\n",
    "Kết quả: []\n",
    "\n",
    "(h) range(10, 101, 10)\n",
    "\n",
    "Bắt đầu 10, tăng 10, dừng trước 101.\n",
    "Kết quả: [10, 20, 30, 40, 50, 60, 70, 80, 90, 100]\n",
    "\n",
    "(i) range(10, -1, -1)\n",
    "\n",
    "Bắt đầu 10, giảm 1, dừng sau khi nhỏ hơn -1.\n",
    "Kết quả: [10, 9, 8, 7, 6, 5, 4, 3, 2, 1, 0]\n",
    "\n",
    "(j) range(-3, 4)\n",
    "\n",
    "Bắt đầu -3, tăng 1, dừng trước 4.\n",
    "Kết quả: [-3, -2, -1, 0, 1, 2, 3]\n",
    "\n",
    "(k) range(0, 10, 1)\n",
    "\n",
    "Bắt đầu 0, tăng 1, dừng trước 10.\n",
    "Kết quả: [0, 1, 2, 3, 4, 5, 6, 7, 8, 9]"
   ]
  },
  {
   "cell_type": "code",
   "execution_count": null,
   "id": "e4b7a15d",
   "metadata": {},
   "outputs": [],
   "source": [
    "#Bai16\n",
    "16 dấu * được in trên màn hình"
   ]
  },
  {
   "cell_type": "code",
   "execution_count": 21,
   "id": "797071f0",
   "metadata": {},
   "outputs": [
    {
     "name": "stdout",
     "output_type": "stream",
     "text": [
      "n = 5\n"
     ]
    }
   ],
   "source": [
    "#Bai17\n",
    "\n",
    "n, m = 0, 100\n",
    "while n != m:\n",
    "    n = int(input(\"Nhập n: \"))\n",
    "    if n < 0:\n",
    "        break\n",
    "    print(\"n =\", n)\n",
    "\n"
   ]
  },
  {
   "cell_type": "code",
   "execution_count": null,
   "id": "bc410dc2",
   "metadata": {},
   "outputs": [
    {
     "name": "stdout",
     "output_type": "stream",
     "text": [
      "* * * * \n",
      "*     * \n",
      "*     * \n",
      "* * * * \n",
      "\n",
      "      * \n",
      "    * * \n",
      "  * * * \n",
      "* * * * \n",
      "\n",
      "*\n",
      "  *\n",
      "    *\n",
      "* * * * * \n",
      "          *\n",
      "            *\n",
      "              *\n"
     ]
    }
   ],
   "source": [
    "#Bai18\n",
    "\n",
    "for i in range (4):\n",
    "    for j in range (4):\n",
    "        if i == 0 or i == 3 or j == 0 or j == 3:\n",
    "            print(\"*\", end = \" \")\n",
    "        else: \n",
    "            print(\" \", end = \" \")\n",
    "    print()\n",
    "print()\n",
    "n = 4\n",
    "for i in range (n):\n",
    "    for j in range (n):\n",
    "        if j >= n - i - 1:\n",
    "            print(\"*\", end = \" \")\n",
    "        else:\n",
    "            print(\" \", end = \" \")\n",
    "    print()\n",
    "print()\n",
    "\n",
    "        \n",
    "\n",
    "\n",
    "\n",
    "    \n",
    "\n",
    "\n",
    "\n"
   ]
  }
 ],
 "metadata": {
  "kernelspec": {
   "display_name": "Python 3",
   "language": "python",
   "name": "python3"
  },
  "language_info": {
   "codemirror_mode": {
    "name": "ipython",
    "version": 3
   },
   "file_extension": ".py",
   "mimetype": "text/x-python",
   "name": "python",
   "nbconvert_exporter": "python",
   "pygments_lexer": "ipython3",
   "version": "3.13.7"
  }
 },
 "nbformat": 4,
 "nbformat_minor": 5
}

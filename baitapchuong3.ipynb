{
 "cells": [
  {
   "cell_type": "code",
   "execution_count": null,
   "id": "5f133470",
   "metadata": {},
   "outputs": [],
   "source": [
    "#Bai1\n",
    "print(\"Chương trình kiểm tra năm nhuần\")\n",
    "year = int (input(\"Mời Thím nhập vào 1 năm: \"))\n",
    "if(year % 4 == 0 and year % 100 !=0) or (year % 400 == 0):\n",
    "    print(\"Năm \", year, \" là năm nhuần\")\n",
    "else:\n",
    "    print(\"Năm \", year, \" không nhuần\")\n"
   ]
  },
  {
   "cell_type": "code",
   "execution_count": null,
   "id": "d8e17019",
   "metadata": {},
   "outputs": [],
   "source": [
    "#Bai2\n",
    "print(\"Chương trình đếm số ngày trong tháng\")\n",
    "month = int (input(\"Nhập vào 1 tháng: \"))\n",
    "if month in (1, 3, 5, 7, 8, 10, 12):\n",
    "    print(\"Tháng \", month, \" có 31 ngày\")\n",
    "elif month in (4, 6, 9, 11):\n",
    "    print(\"Tháng \", month, \" có 30 ngày\")\n",
    "elif month == 2:\n",
    "    year = int (input(\"Mời bạn nhập vao năm: \"))\n",
    "    if(year % 4 == 0 and year % 100 != 0) or (year % 400 == 0):\n",
    "        print(\"Tháng \", month, \" có 29 ngày\")\n",
    "    else: \n",
    "        print(\"Tháng \", month, \" có 28 ngày\")\n",
    "else:\n",
    "    print(\"Tháng \", month, \" không hợp lệ\")"
   ]
  },
  {
   "cell_type": "code",
   "execution_count": null,
   "id": "8283f06a",
   "metadata": {},
   "outputs": [],
   "source": [
    "#Bai3\n",
    "from math import sqrt\n",
    "\n",
    "print(\"Chương Trình Giải Phương Trình Bậc 2\")\n",
    "a = float(input(\"Nhập a: \"))\n",
    "b = float(input(\"Nhập b: \"))\n",
    "c = float(input(\"Nhập c: \"))\n",
    "if a == 0:\n",
    "    if b == 0 and c == 0:\n",
    "        print(\"Vô số nghiệm\")\n",
    "    elif b == 0 and c != 0:\n",
    "        print(\"Vô nghiệm\")\n",
    "    else: \n",
    "        x = -c/b\n",
    "        print(\"Nghiệm x = \", x)\n",
    "else:\n",
    "    delta = b**2 - 4*a*c\n",
    "    if delta < 0:\n",
    "        print(\"Vô nghiệm\")\n",
    "    elif delta == 0:\n",
    "        x = -b/2*a\n",
    "        print(\"Nghiệm kép x1 = x2 =\", x)\n",
    "    else:\n",
    "        x1 = (-b + sqrt(delta)) / (2*a)\n",
    "        x2 = (-b - sqrt(delta)) / (2*a)\n",
    "        print(\"x1 = \", x1)\n",
    "        print(\"x2 = \", x2)"
   ]
  }
 ],
 "metadata": {
  "language_info": {
   "name": "python"
  }
 },
 "nbformat": 4,
 "nbformat_minor": 5
}
